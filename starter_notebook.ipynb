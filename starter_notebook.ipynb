{
  "cells": [
    {
      "cell_type": "markdown",
      "metadata": {
        "id": "view-in-github",
        "colab_type": "text"
      },
      "source": [
        "<a href=\"https://colab.research.google.com/github/23435339/Weather-Wise-Srijana/blob/main/starter_notebook.ipynb\" target=\"_parent\"><img src=\"https://colab.research.google.com/assets/colab-badge.svg\" alt=\"Open In Colab\"/></a>"
      ]
    },
    {
      "cell_type": "code",
      "execution_count": null,
      "id": "70c3f3f1",
      "metadata": {
        "id": "70c3f3f1"
      },
      "outputs": [],
      "source": [
        "pip install pyinputplus matplotlib requests"
      ]
    },
    {
      "cell_type": "markdown",
      "id": "59ae7543",
      "metadata": {
        "id": "59ae7543"
      },
      "source": [
        "## 📦 Setup and Configuration\n",
        "Import required packages and setup environment."
      ]
    },
    {
      "cell_type": "code",
      "execution_count": null,
      "id": "f1dd051e",
      "metadata": {
        "id": "f1dd051e"
      },
      "outputs": [],
      "source": [
        "import requests\n",
        "import os\n",
        "import numpy as np\n",
        "import matplotlib.pyplot as plt\n",
        "import pyinputplus as pyip\n",
        "import ipywidgets as widgets\n",
        "from IPython.display import display, clear_output\n",
        "\n"
      ]
    },
    {
      "cell_type": "markdown",
      "id": "f736ade3",
      "metadata": {
        "id": "f736ade3"
      },
      "source": [
        "## 🌤️ Weather Data Functions"
      ]
    },
    {
      "cell_type": "code",
      "execution_count": null,
      "id": "7a2c7cd0",
      "metadata": {
        "id": "7a2c7cd0"
      },
      "outputs": [],
      "source": [
        "# Define get_weather_data() function here\n",
        "def get_weather_data(location, forecast_days=3):\n",
        "    \"\"\"\n",
        "    Obtain forecast details for a selected city and duration via wttr.in, limiting the days as recommended.\n",
        "    \"\"\"\n",
        "    endpoint = f\"https://wttr.in/{location}?format=j1\"\n",
        "    data = None\n",
        "\n",
        "    try:\n",
        "        response = requests.get(endpoint, timeout=10)\n",
        "        if response.status_code == 200:\n",
        "            info = response.json()\n",
        "            if 'weather' in info:\n",
        "                limited_data = info.copy()\n",
        "                limited_data['weather'] = info['weather'][:forecast_days]\n",
        "                data = limited_data\n",
        "        else:\n",
        "            print(f\"Request failed with status: {response.status_code}\")\n",
        "    except requests.exceptions.RequestException as error:\n",
        "        print(f\"Unable to retrieve forecast: {error}\")\n",
        "\n",
        "    return data\n"
      ]
    },
    {
      "cell_type": "markdown",
      "id": "8a744fdc",
      "metadata": {
        "id": "8a744fdc"
      },
      "source": [
        "## 📊 Visualisation Functions"
      ]
    },
    {
      "cell_type": "code",
      "execution_count": null,
      "id": "9dc3bf85",
      "metadata": {
        "id": "9dc3bf85"
      },
      "outputs": [],
      "source": [
        "# Define create_temperature_visualisation() and create_precipitation_visualisation() here\n",
        "def create_temperature_visualisation(weather_data, output_type='display'):\n",
        "    \"\"\"\n",
        "    Display daily max & min temperatures using weather-themed vertical bars.\n",
        "    \"\"\"\n",
        "    dates = [day['date'] for day in weather_data.get('weather', [])]\n",
        "    max_temps = [float(day.get('maxtempC', 0)) for day in weather_data.get('weather', [])]\n",
        "    min_temps = [float(day.get('mintempC', 0)) for day in weather_data.get('weather', [])]\n",
        "\n",
        "    x = np.arange(len(dates))\n",
        "    width = 0.35\n",
        "\n",
        "    plt.figure(figsize=(8, 5))\n",
        "\n",
        "    # Bar chart with weather-color theme\n",
        "    bars_min = plt.bar(x - width/2, min_temps, width, color='#4FC3F7', edgecolor='#0288D1', label='Min Temp (°C)', alpha=0.9)\n",
        "    bars_max = plt.bar(x + width/2, max_temps, width, color='#FFB74D', edgecolor='#E65100', label='Max Temp (°C)', alpha=0.9)\n",
        "\n",
        "    # Add value labels above bars\n",
        "    for bar in bars_max:\n",
        "        height = bar.get_height()\n",
        "        plt.text(bar.get_x() + bar.get_width()/2, height + 0.2, f'{height:.1f}', ha='center', va='bottom', fontsize=9, color='#E65100')\n",
        "    for bar in bars_min:\n",
        "        height = bar.get_height()\n",
        "        plt.text(bar.get_x() + bar.get_width()/2, height + 0.2, f'{height:.1f}', ha='center', va='bottom', fontsize=9, color='#01579B')\n",
        "\n",
        "    plt.xticks(x, dates, rotation=25)\n",
        "    plt.xlabel(\"Date\")\n",
        "    plt.ylabel(\"Temperature (°C)\")\n",
        "    plt.title(\"Daily Temperature Overview\")\n",
        "    plt.legend()\n",
        "    plt.grid(axis='y', linestyle='--', alpha=0.5)\n",
        "    plt.tight_layout()\n",
        "    plt.show()\n"
      ]
    },
    {
      "cell_type": "code",
      "source": [
        "\n",
        "def create_precipitation_visualisation(weather_data, output_type='display'):\n",
        "    \"\"\"\n",
        "    Display total daily rainfall as vertical bars with color intensity based on amount.\n",
        "    \"\"\"\n",
        "    dates = [day['date'] for day in weather_data.get('weather', [])]\n",
        "    totals = []\n",
        "\n",
        "    # Calculate total daily precipitation\n",
        "    for day in weather_data.get('weather', []):\n",
        "        hourly_rain = [float(hour.get('precipMM', 0)) for hour in day.get('hourly', [])]\n",
        "        total_rain = sum(hourly_rain)\n",
        "        totals.append(total_rain)\n",
        "\n",
        "    x = np.arange(len(dates))\n",
        "\n",
        "    colors = plt.cm.Blues(np.linspace(0.3, 0.9, len(totals)))\n",
        "\n",
        "    plt.figure(figsize=(8, 5))\n",
        "    bars = plt.bar(x, totals, color=colors, edgecolor='black', alpha=0.85)\n",
        "\n",
        "    plt.xticks(x, dates, rotation=25)\n",
        "    plt.xlabel(\"Date\")\n",
        "    plt.ylabel(\"Total Rainfall (mm)\")\n",
        "    plt.title(\"Daily Total Precipitation Overview\")\n",
        "    plt.grid(axis='y', linestyle='--', alpha=0.6)\n",
        "\n",
        "    for bar, total in zip(bars, totals):\n",
        "        height = bar.get_height()\n",
        "        plt.text(bar.get_x() + bar.get_width() / 2, height + 0.1,\n",
        "                 f'{height:.1f}', ha='center', va='bottom', fontsize=9, color='black')\n",
        "\n",
        "    plt.tight_layout()\n",
        "    plt.show()\n",
        "\n"
      ],
      "metadata": {
        "id": "HpOlQylYG5Ho"
      },
      "id": "HpOlQylYG5Ho",
      "execution_count": null,
      "outputs": []
    },
    {
      "cell_type": "code",
      "source": [
        "def create_wind_visualisation(weather_data, output_type='display'):\n",
        "    \"\"\"\n",
        "    Average wind speed per day shown as a smooth gradient filled area chart.\n",
        "    \"\"\"\n",
        "    dates = []\n",
        "    avg_wind_speed = []  # renamed variable to reflect actual data\n",
        "\n",
        "    for day in weather_data.get('weather', []):\n",
        "        dates.append(day['date'])\n",
        "        wind_speeds = [float(hour.get('windspeedKmph', 0)) for hour in day.get('hourly', [])]\n",
        "        avg = sum(wind_speeds) / len(wind_speeds) if wind_speeds else 0\n",
        "        avg_wind_speed.append(avg)\n",
        "\n",
        "    plt.figure(figsize=(8, 5))\n",
        "    plt.plot(dates, avg_wind_speed, color='#1565C0', lw=2)\n",
        "\n",
        "    # Gradient fill effect with dynamic opacity\n",
        "    for i in range(len(dates) - 1):\n",
        "        plt.fill_between(dates[i:i + 2], avg_wind_speed[i:i + 2], color='#90CAF9', alpha=0.4 * (i + 1) / len(dates))\n",
        "\n",
        "    plt.title(\"Average Daily Wind Speed\")\n",
        "    plt.xlabel(\"Date\")\n",
        "    plt.ylabel(\"Wind Speed (km/h)\")\n",
        "    plt.grid(alpha=0.4, linestyle='--')\n",
        "    plt.tight_layout()\n",
        "    plt.show()"
      ],
      "metadata": {
        "id": "DW1dJduYrubj"
      },
      "id": "DW1dJduYrubj",
      "execution_count": null,
      "outputs": []
    },
    {
      "cell_type": "markdown",
      "id": "9f95d160",
      "metadata": {
        "id": "9f95d160"
      },
      "source": [
        "## 🤖 Natural Language Processing"
      ]
    },
    {
      "cell_type": "code",
      "execution_count": null,
      "id": "bcc5833e",
      "metadata": {
        "id": "bcc5833e"
      },
      "outputs": [],
      "source": [
        "# Define parse_weather_question() and generate_weather_response() here\n",
        "def parse_weather_question(question):\n",
        "    \"\"\"\n",
        "    Extracts city, feature, and day from a user's weather query.\n",
        "    \"\"\"\n",
        "    question = question.lower().strip()\n",
        "    features = ['temperature', 'precipitation', 'wind']\n",
        "    time_markers = ['today', 'tomorrow', 'day after tomorrow']\n",
        "    city = None\n",
        "    focus = None\n",
        "    day_ref = 'today'\n",
        "\n",
        "    # Identify feature by partial or full match\n",
        "    for word in question.split():\n",
        "        for f in features:\n",
        "            if f in word or word.startswith(f[:4]):\n",
        "                focus = f\n",
        "                break\n",
        "        if focus:\n",
        "            break\n",
        "\n",
        "    # Identify which day user refers to\n",
        "    for marker in time_markers:\n",
        "        if marker in question:\n",
        "            day_ref = marker\n",
        "            break\n",
        "\n",
        "    # Extract city name (after 'in' or 'at'), else use Perth\n",
        "    tokens = question.split()\n",
        "    for prep in ['in', 'at']:\n",
        "        if prep in tokens:\n",
        "            idx = tokens.index(prep)\n",
        "            if idx + 1 < len(tokens):\n",
        "                city = tokens[idx + 1].capitalize()\n",
        "                break\n",
        "    if not city:\n",
        "        city = 'Perth'\n",
        "\n",
        "    return {'city': city, 'element': focus, 'period': day_ref}\n"
      ]
    },
    {
      "cell_type": "markdown",
      "id": "d643a53c",
      "metadata": {
        "id": "d643a53c"
      },
      "source": [
        "## 🧩 Main Application Logic"
      ]
    },
    {
      "cell_type": "code",
      "execution_count": null,
      "id": "a9e2e805",
      "metadata": {
        "id": "a9e2e805"
      },
      "outputs": [],
      "source": [
        "# Tie everything together here\n",
        "def generate_weather_response(parsed_question, weather_data):\n",
        "    \"\"\"\n",
        "    Generate a text response for temperature, precipitation, humidity, or wind forecast.\n",
        "    \"\"\"\n",
        "    city = parsed_question.get('city', 'Unknown').title()\n",
        "    element = parsed_question.get('element')\n",
        "    period = parsed_question.get('period', 'today').lower()\n",
        "\n",
        "    # Reworked logic for day indexing\n",
        "    day_map = {'today': 0, 'tomorrow': 1, 'day after tomorrow': 2}\n",
        "    day_index = day_map.get(period, 0)\n",
        "\n",
        "    try:\n",
        "        selected_day = weather_data.get('weather', [])[day_index]\n",
        "        hourly_data = selected_day.get('hourly', [])\n",
        "\n",
        "        if not element or element == 'temperature':\n",
        "            avg_temp = sum((float(h.get('tempC', 0)) for h in hourly_data)) / len(hourly_data) if hourly_data else 0\n",
        "            return f\"In {city} on {selected_day['date']}, the average temperature will be around {avg_temp:.1f}°C.\"\n",
        "\n",
        "        elif element in ['precipitation', 'rain']:\n",
        "            precip_values = [float(h.get('precipMM', 0)) for h in hourly_data]\n",
        "            max_rain = max(precip_values) if precip_values else 0\n",
        "            return f\"In {city} on {selected_day['date']}, the heaviest rainfall is expected to reach {max_rain:.1f} mm in an hour.\"\n",
        "\n",
        "        elif element == 'wind':\n",
        "            wind_values = [float(h.get('windspeedKmph', 0)) for h in hourly_data]\n",
        "            avg_wind = sum(wind_values) / len(wind_values) if wind_values else 0\n",
        "            return f\"In {city} on {selected_day['date']}, the average wind speed will be {avg_wind:.1f} km/h.\"\n",
        "\n",
        "        else:\n",
        "            return \"Sorry, only temperature, precipitation, humidity, and wind data are supported.\"\n",
        "\n",
        "    except (IndexError, KeyError, TypeError):\n",
        "        return \"Sorry, weather data is not available for the requested time.\"\n"
      ]
    },
    {
      "cell_type": "markdown",
      "id": "0d85225e",
      "metadata": {
        "id": "0d85225e"
      },
      "source": [
        "## 🧭 User Interface"
      ]
    },
    {
      "cell_type": "code",
      "execution_count": null,
      "id": "fa6cb0f6",
      "metadata": {
        "id": "fa6cb0f6"
      },
      "outputs": [],
      "source": [
        "# Define menu functions using pyinputplus or ipywidgets here\n",
        "\n",
        "def weather_menu():\n",
        "    title = widgets.HTML(value=\"<h2>🌤️ Weather Wise</h2><p>Select an option below:</p>\")\n",
        "\n",
        "    # Create menu buttons\n",
        "    btn_question = widgets.Button(description=\"Ask Weather Question\", button_style='info')\n",
        "    btn_temp = widgets.Button(description=\"Temperature Chart\", button_style='warning')\n",
        "    btn_rain = widgets.Button(description=\"Precipitation Chart\", button_style='primary')\n",
        "    btn_wind = widgets.Button(description=\"Wind Chart\", button_style='success')\n",
        "    btn_exit = widgets.Button(description=\"Exit\", button_style='danger')\n",
        "\n",
        "    menu_box = widgets.VBox([title, btn_question, btn_temp, btn_rain, btn_wind, btn_exit])\n",
        "    display(menu_box)\n",
        "\n",
        "    # --- handlers for each option ---\n",
        "    def ask_question(b):\n",
        "        clear_output()\n",
        "        city_box = widgets.Text(description=\"City:\", placeholder=\"Enter city name\")\n",
        "        q_box = widgets.Text(description=\"Question:\", placeholder=\"e.g. What's the temperature today?\")\n",
        "        run_btn = widgets.Button(description=\"Get Answer\", button_style='success')\n",
        "        back_btn = widgets.Button(description=\"Back\", button_style='info')\n",
        "        display(city_box, q_box, run_btn, back_btn)\n",
        "\n",
        "        def run_action(r):\n",
        "            clear_output()\n",
        "            city = city_box.value or \"Perth\"\n",
        "            data = get_weather_data(city, forecast_days=3)\n",
        "            parsed = parse_weather_question(q_box.value)\n",
        "            parsed['city'] = city\n",
        "            print(generate_weather_response(parsed, data))\n",
        "            back_btn.on_click(lambda _: (clear_output(), weather_menu()))\n",
        "            display(back_btn)\n",
        "        run_btn.on_click(run_action)\n",
        "        back_btn.on_click(lambda _: (clear_output(), weather_menu()))\n",
        "\n",
        "    def show_temp(b):\n",
        "        clear_output()\n",
        "        city_box = widgets.Text(description=\"City:\", placeholder=\"Enter city name\")\n",
        "        run_btn = widgets.Button(description=\"Show Chart\", button_style='success')\n",
        "        back_btn = widgets.Button(description=\"Back\", button_style='info')\n",
        "        display(city_box, run_btn, back_btn)\n",
        "\n",
        "        def run_action(r):\n",
        "            clear_output()\n",
        "            city = city_box.value or \"Perth\"\n",
        "            data = get_weather_data(city, forecast_days=3)\n",
        "            create_temperature_visualisation(data)\n",
        "            back_btn.on_click(lambda _: (clear_output(), weather_menu()))\n",
        "            display(back_btn)\n",
        "        run_btn.on_click(run_action)\n",
        "        back_btn.on_click(lambda _: (clear_output(), weather_menu()))\n",
        "\n",
        "    def show_rain(b):\n",
        "        clear_output()\n",
        "        city_box = widgets.Text(description=\"City:\", placeholder=\"Enter city name\")\n",
        "        run_btn = widgets.Button(description=\"Show Chart\", button_style='success')\n",
        "        back_btn = widgets.Button(description=\"Back\", button_style='info')\n",
        "        display(city_box, run_btn, back_btn)\n",
        "\n",
        "        def run_action(r):\n",
        "            clear_output()\n",
        "            city = city_box.value or \"Perth\"\n",
        "            data = get_weather_data(city, forecast_days=3)\n",
        "            create_precipitation_visualisation(data)\n",
        "            back_btn.on_click(lambda _: (clear_output(), weather_menu()))\n",
        "            display(back_btn)\n",
        "        run_btn.on_click(run_action)\n",
        "        back_btn.on_click(lambda _: (clear_output(), weather_menu()))\n",
        "\n",
        "    def show_wind(b):\n",
        "        clear_output()\n",
        "        city_box = widgets.Text(description=\"City:\", placeholder=\"Enter city name\")\n",
        "        run_btn = widgets.Button(description=\"Show Chart\", button_style='success')\n",
        "        back_btn = widgets.Button(description=\"Back\", button_style='info')\n",
        "        display(city_box, run_btn, back_btn)\n",
        "\n",
        "        def run_action(r):\n",
        "            clear_output()\n",
        "            city = city_box.value or \"Perth\"\n",
        "            data = get_weather_data(city, forecast_days=3)\n",
        "            create_wind_visualisation(data)\n",
        "            back_btn.on_click(lambda _: (clear_output(), weather_menu()))\n",
        "            display(back_btn)\n",
        "        run_btn.on_click(run_action)\n",
        "        back_btn.on_click(lambda _: (clear_output(), weather_menu()))\n",
        "\n",
        "    def exit_menu(b):\n",
        "        clear_output()\n",
        "        display(widgets.HTML(value=\"<h3>✅ Exiting Weather Wise... Stay weather-smart!</h3>\"))\n",
        "\n",
        "    # connect buttons\n",
        "    btn_question.on_click(ask_question)\n",
        "    btn_temp.on_click(show_temp)\n",
        "    btn_rain.on_click(show_rain)\n",
        "    btn_wind.on_click(show_wind)\n",
        "    btn_exit.on_click(exit_menu)\n",
        "\n"
      ]
    },
    {
      "cell_type": "code",
      "source": [
        "weather_menu()"
      ],
      "metadata": {
        "id": "MOsoNsyeshCN"
      },
      "id": "MOsoNsyeshCN",
      "execution_count": null,
      "outputs": []
    },
    {
      "cell_type": "markdown",
      "id": "fde44479",
      "metadata": {
        "id": "fde44479"
      },
      "source": [
        "## 🧪 Testing and Examples"
      ]
    },
    {
      "cell_type": "code",
      "execution_count": null,
      "id": "4e573901",
      "metadata": {
        "id": "4e573901"
      },
      "outputs": [],
      "source": [
        "# Include sample input/output for each function"
      ]
    },
    {
      "cell_type": "markdown",
      "id": "d2885880",
      "metadata": {
        "id": "d2885880"
      },
      "source": [
        "## 🗂️ AI Prompting Log (Optional)\n",
        "Add markdown cells here summarising prompts used or link to AI conversations in the `ai-conversations/` folder."
      ]
    }
  ],
  "metadata": {
    "language_info": {
      "name": "python"
    },
    "colab": {
      "provenance": [],
      "include_colab_link": true
    }
  },
  "nbformat": 4,
  "nbformat_minor": 5
}